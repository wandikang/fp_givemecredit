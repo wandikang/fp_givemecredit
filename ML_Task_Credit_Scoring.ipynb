{
  "nbformat": 4,
  "nbformat_minor": 0,
  "metadata": {
    "colab": {
      "name": "Foodpanda ML Assignment Credit Scoring.ipynb",
      "provenance": [],
      "collapsed_sections": [],
      "toc_visible": true
    },
    "kernelspec": {
      "name": "python3",
      "display_name": "Python 3"
    },
    "language_info": {
      "name": "python"
    },
    "accelerator": "GPU"
  },
  "cells": [
    {
      "cell_type": "code",
      "metadata": {
        "id": "D2ykagbysVH4"
      },
      "source": [
        "import pandas as pd\n",
        "import numpy as np \n",
        "import time\n",
        "import os\n",
        "import sys\n",
        "import json, csv\n",
        "import matplotlib.pyplot as plt\n",
        "import seaborn as sns\n",
        "import tensorflow as tf\n",
        "from sklearn.preprocessing import MinMaxScaler\n",
        "from sklearn.preprocessing import StandardScaler\n",
        "from sklearn.model_selection import train_test_split\n",
        "from sklearn.model_selection import KFold\n",
        "from sklearn.model_selection import GridSearchCV\n",
        "from sklearn.model_selection import cross_validate\n",
        "from sklearn.model_selection import cross_val_score\n",
        "from sklearn.ensemble import RandomForestClassifier\n",
        "import xgboost as xgb\n",
        "# import catboost\n",
        "# import cslib\n"
      ],
      "execution_count": 100,
      "outputs": []
    },
    {
      "cell_type": "code",
      "metadata": {
        "colab": {
          "base_uri": "https://localhost:8080/"
        },
        "id": "PxAmeWjtj20R",
        "outputId": "2de0a47f-0826-490d-a2cc-68596512f449"
      },
      "source": [
        "# mount drive and setup train and annotation data\n",
        "from google.colab import drive\n",
        "drive.mount('/content/drive')\n",
        "\n",
        "sys.path.append('/content/gdrive/Colab Notebooks/interview_take_home/foodpanda/')"
      ],
      "execution_count": 3,
      "outputs": [
        {
          "output_type": "stream",
          "text": [
            "Mounted at /content/drive\n"
          ],
          "name": "stdout"
        }
      ]
    },
    {
      "cell_type": "code",
      "metadata": {
        "id": "1Xdb7ejPj5KQ"
      },
      "source": [
        "# set directory and file path\n",
        "data_dir='/content/drive/My Drive/Colab Notebooks/interview_take_home/foodpanda/data/'\n",
        "sample_entry_path = data_dir + \"sampleEntry.csv\"\n",
        "cs_training_path = data_dir + \"cs_training.csv\"\n",
        "cs_test_path = data_dir + \"cs_test.csv\"\n",
        "data_dict_path = data_dir + \"Data_Dictionary.xls\"\n",
        "\n",
        "# PATH = data_dir + 'train_samples/'"
      ],
      "execution_count": 4,
      "outputs": []
    },
    {
      "cell_type": "markdown",
      "metadata": {
        "id": "SpeE1uAFzRXT"
      },
      "source": [
        "## Data Exploration\n",
        "In this part we explore the data in order to have overview and better understanding of the data."
      ]
    },
    {
      "cell_type": "code",
      "metadata": {
        "colab": {
          "base_uri": "https://localhost:8080/",
          "height": 434
        },
        "id": "lV4IsgM_j5MY",
        "outputId": "a086146e-c47d-4f9e-e099-a27982201308"
      },
      "source": [
        "data_dict = pd.read_excel(data_dict_path )\n",
        "print(\"data_dict.shape: \", data_dict.shape)\n",
        "data_dict"
      ],
      "execution_count": 5,
      "outputs": [
        {
          "output_type": "stream",
          "text": [
            "data_dict.shape:  (12, 3)\n"
          ],
          "name": "stdout"
        },
        {
          "output_type": "execute_result",
          "data": {
            "text/html": [
              "<div>\n",
              "<style scoped>\n",
              "    .dataframe tbody tr th:only-of-type {\n",
              "        vertical-align: middle;\n",
              "    }\n",
              "\n",
              "    .dataframe tbody tr th {\n",
              "        vertical-align: top;\n",
              "    }\n",
              "\n",
              "    .dataframe thead th {\n",
              "        text-align: right;\n",
              "    }\n",
              "</style>\n",
              "<table border=\"1\" class=\"dataframe\">\n",
              "  <thead>\n",
              "    <tr style=\"text-align: right;\">\n",
              "      <th></th>\n",
              "      <th>Unnamed: 0</th>\n",
              "      <th>Unnamed: 1</th>\n",
              "      <th>Unnamed: 2</th>\n",
              "    </tr>\n",
              "  </thead>\n",
              "  <tbody>\n",
              "    <tr>\n",
              "      <th>0</th>\n",
              "      <td>Variable Name</td>\n",
              "      <td>Description</td>\n",
              "      <td>Type</td>\n",
              "    </tr>\n",
              "    <tr>\n",
              "      <th>1</th>\n",
              "      <td>SeriousDlqin2yrs</td>\n",
              "      <td>Person experienced 90 days past due delinquenc...</td>\n",
              "      <td>Y/N</td>\n",
              "    </tr>\n",
              "    <tr>\n",
              "      <th>2</th>\n",
              "      <td>RevolvingUtilizationOfUnsecuredLines</td>\n",
              "      <td>Total balance on credit cards and personal lin...</td>\n",
              "      <td>percentage</td>\n",
              "    </tr>\n",
              "    <tr>\n",
              "      <th>3</th>\n",
              "      <td>age</td>\n",
              "      <td>Age of borrower in years</td>\n",
              "      <td>integer</td>\n",
              "    </tr>\n",
              "    <tr>\n",
              "      <th>4</th>\n",
              "      <td>NumberOfTime30-59DaysPastDueNotWorse</td>\n",
              "      <td>Number of times borrower has been 30-59 days p...</td>\n",
              "      <td>integer</td>\n",
              "    </tr>\n",
              "    <tr>\n",
              "      <th>5</th>\n",
              "      <td>DebtRatio</td>\n",
              "      <td>Monthly debt payments, alimony,living costs di...</td>\n",
              "      <td>percentage</td>\n",
              "    </tr>\n",
              "    <tr>\n",
              "      <th>6</th>\n",
              "      <td>MonthlyIncome</td>\n",
              "      <td>Monthly income</td>\n",
              "      <td>real</td>\n",
              "    </tr>\n",
              "    <tr>\n",
              "      <th>7</th>\n",
              "      <td>NumberOfOpenCreditLinesAndLoans</td>\n",
              "      <td>Number of Open loans (installment like car loa...</td>\n",
              "      <td>integer</td>\n",
              "    </tr>\n",
              "    <tr>\n",
              "      <th>8</th>\n",
              "      <td>NumberOfTimes90DaysLate</td>\n",
              "      <td>Number of times borrower has been 90 days or m...</td>\n",
              "      <td>integer</td>\n",
              "    </tr>\n",
              "    <tr>\n",
              "      <th>9</th>\n",
              "      <td>NumberRealEstateLoansOrLines</td>\n",
              "      <td>Number of mortgage and real estate loans inclu...</td>\n",
              "      <td>integer</td>\n",
              "    </tr>\n",
              "    <tr>\n",
              "      <th>10</th>\n",
              "      <td>NumberOfTime60-89DaysPastDueNotWorse</td>\n",
              "      <td>Number of times borrower has been 60-89 days p...</td>\n",
              "      <td>integer</td>\n",
              "    </tr>\n",
              "    <tr>\n",
              "      <th>11</th>\n",
              "      <td>NumberOfDependents</td>\n",
              "      <td>Number of dependents in family excluding thems...</td>\n",
              "      <td>integer</td>\n",
              "    </tr>\n",
              "  </tbody>\n",
              "</table>\n",
              "</div>"
            ],
            "text/plain": [
              "                              Unnamed: 0  ...  Unnamed: 2\n",
              "0                          Variable Name  ...        Type\n",
              "1                       SeriousDlqin2yrs  ...         Y/N\n",
              "2   RevolvingUtilizationOfUnsecuredLines  ...  percentage\n",
              "3                                    age  ...     integer\n",
              "4   NumberOfTime30-59DaysPastDueNotWorse  ...     integer\n",
              "5                              DebtRatio  ...  percentage\n",
              "6                          MonthlyIncome  ...        real\n",
              "7        NumberOfOpenCreditLinesAndLoans  ...     integer\n",
              "8                NumberOfTimes90DaysLate  ...     integer\n",
              "9           NumberRealEstateLoansOrLines  ...     integer\n",
              "10  NumberOfTime60-89DaysPastDueNotWorse  ...     integer\n",
              "11                    NumberOfDependents  ...     integer\n",
              "\n",
              "[12 rows x 3 columns]"
            ]
          },
          "metadata": {
            "tags": []
          },
          "execution_count": 5
        }
      ]
    },
    {
      "cell_type": "markdown",
      "metadata": {
        "id": "j3UcxUoUXz0R"
      },
      "source": [
        "### Read Data Files"
      ]
    },
    {
      "cell_type": "code",
      "metadata": {
        "colab": {
          "base_uri": "https://localhost:8080/",
          "height": 272
        },
        "id": "MoSGy4mZsSu3",
        "outputId": "18254072-ab4c-499a-a618-fe00cb141743"
      },
      "source": [
        "# read data files\n",
        "df_cs_train = pd.read_csv(cs_training_path)\n",
        "print(\"cs_train.shape: \", df_cs_train.shape)\n",
        "print('df_cs_train: ', list(df_cs_train))\n",
        "\n",
        "# define target and features \n",
        "target = 'SeriousDlqin2yrs'\n",
        "col_feat = ['RevolvingUtilizationOfUnsecuredLines','age','DebtRatio','MonthlyIncome', \\\n",
        "            'NumberOfOpenCreditLinesAndLoans','NumberRealEstateLoansOrLines','NumberOfDependents', \\\n",
        "            'NumberOfTime30-59DaysPastDueNotWorse','NumberOfTime60-89DaysPastDueNotWorse','NumberOfTimes90DaysLate']\n",
        "df_cs_train.head()"
      ],
      "execution_count": 6,
      "outputs": [
        {
          "output_type": "stream",
          "text": [
            "cs_train.shape:  (150000, 12)\n",
            "df_cs_train:  ['Unnamed: 0', 'SeriousDlqin2yrs', 'RevolvingUtilizationOfUnsecuredLines', 'age', 'NumberOfTime30-59DaysPastDueNotWorse', 'DebtRatio', 'MonthlyIncome', 'NumberOfOpenCreditLinesAndLoans', 'NumberOfTimes90DaysLate', 'NumberRealEstateLoansOrLines', 'NumberOfTime60-89DaysPastDueNotWorse', 'NumberOfDependents']\n"
          ],
          "name": "stdout"
        },
        {
          "output_type": "execute_result",
          "data": {
            "text/html": [
              "<div>\n",
              "<style scoped>\n",
              "    .dataframe tbody tr th:only-of-type {\n",
              "        vertical-align: middle;\n",
              "    }\n",
              "\n",
              "    .dataframe tbody tr th {\n",
              "        vertical-align: top;\n",
              "    }\n",
              "\n",
              "    .dataframe thead th {\n",
              "        text-align: right;\n",
              "    }\n",
              "</style>\n",
              "<table border=\"1\" class=\"dataframe\">\n",
              "  <thead>\n",
              "    <tr style=\"text-align: right;\">\n",
              "      <th></th>\n",
              "      <th>Unnamed: 0</th>\n",
              "      <th>SeriousDlqin2yrs</th>\n",
              "      <th>RevolvingUtilizationOfUnsecuredLines</th>\n",
              "      <th>age</th>\n",
              "      <th>NumberOfTime30-59DaysPastDueNotWorse</th>\n",
              "      <th>DebtRatio</th>\n",
              "      <th>MonthlyIncome</th>\n",
              "      <th>NumberOfOpenCreditLinesAndLoans</th>\n",
              "      <th>NumberOfTimes90DaysLate</th>\n",
              "      <th>NumberRealEstateLoansOrLines</th>\n",
              "      <th>NumberOfTime60-89DaysPastDueNotWorse</th>\n",
              "      <th>NumberOfDependents</th>\n",
              "    </tr>\n",
              "  </thead>\n",
              "  <tbody>\n",
              "    <tr>\n",
              "      <th>0</th>\n",
              "      <td>1</td>\n",
              "      <td>1</td>\n",
              "      <td>0.766127</td>\n",
              "      <td>45</td>\n",
              "      <td>2</td>\n",
              "      <td>0.802982</td>\n",
              "      <td>9120.0</td>\n",
              "      <td>13</td>\n",
              "      <td>0</td>\n",
              "      <td>6</td>\n",
              "      <td>0</td>\n",
              "      <td>2.0</td>\n",
              "    </tr>\n",
              "    <tr>\n",
              "      <th>1</th>\n",
              "      <td>2</td>\n",
              "      <td>0</td>\n",
              "      <td>0.957151</td>\n",
              "      <td>40</td>\n",
              "      <td>0</td>\n",
              "      <td>0.121876</td>\n",
              "      <td>2600.0</td>\n",
              "      <td>4</td>\n",
              "      <td>0</td>\n",
              "      <td>0</td>\n",
              "      <td>0</td>\n",
              "      <td>1.0</td>\n",
              "    </tr>\n",
              "    <tr>\n",
              "      <th>2</th>\n",
              "      <td>3</td>\n",
              "      <td>0</td>\n",
              "      <td>0.658180</td>\n",
              "      <td>38</td>\n",
              "      <td>1</td>\n",
              "      <td>0.085113</td>\n",
              "      <td>3042.0</td>\n",
              "      <td>2</td>\n",
              "      <td>1</td>\n",
              "      <td>0</td>\n",
              "      <td>0</td>\n",
              "      <td>0.0</td>\n",
              "    </tr>\n",
              "    <tr>\n",
              "      <th>3</th>\n",
              "      <td>4</td>\n",
              "      <td>0</td>\n",
              "      <td>0.233810</td>\n",
              "      <td>30</td>\n",
              "      <td>0</td>\n",
              "      <td>0.036050</td>\n",
              "      <td>3300.0</td>\n",
              "      <td>5</td>\n",
              "      <td>0</td>\n",
              "      <td>0</td>\n",
              "      <td>0</td>\n",
              "      <td>0.0</td>\n",
              "    </tr>\n",
              "    <tr>\n",
              "      <th>4</th>\n",
              "      <td>5</td>\n",
              "      <td>0</td>\n",
              "      <td>0.907239</td>\n",
              "      <td>49</td>\n",
              "      <td>1</td>\n",
              "      <td>0.024926</td>\n",
              "      <td>63588.0</td>\n",
              "      <td>7</td>\n",
              "      <td>0</td>\n",
              "      <td>1</td>\n",
              "      <td>0</td>\n",
              "      <td>0.0</td>\n",
              "    </tr>\n",
              "  </tbody>\n",
              "</table>\n",
              "</div>"
            ],
            "text/plain": [
              "   Unnamed: 0  ...  NumberOfDependents\n",
              "0           1  ...                 2.0\n",
              "1           2  ...                 1.0\n",
              "2           3  ...                 0.0\n",
              "3           4  ...                 0.0\n",
              "4           5  ...                 0.0\n",
              "\n",
              "[5 rows x 12 columns]"
            ]
          },
          "metadata": {
            "tags": []
          },
          "execution_count": 6
        }
      ]
    },
    {
      "cell_type": "code",
      "metadata": {
        "colab": {
          "base_uri": "https://localhost:8080/"
        },
        "id": "2U_vjKDeu45r",
        "outputId": "6928ffdc-a113-4c0a-9b78-08c3697461bc"
      },
      "source": [
        "df_cs_test = pd.read_csv(cs_test_path)\n",
        "print(\"cs_test.shape: \", df_cs_test.shape)\n",
        "print('df_cs_test: ', list(df_cs_test))\n",
        "print(df_cs_test[target].isna().sum()) # target in test data is NaN (not provided)\n",
        "# df_cs_test.head()"
      ],
      "execution_count": 7,
      "outputs": [
        {
          "output_type": "stream",
          "text": [
            "cs_test.shape:  (101503, 12)\n",
            "df_cs_test:  ['Unnamed: 0', 'SeriousDlqin2yrs', 'RevolvingUtilizationOfUnsecuredLines', 'age', 'NumberOfTime30-59DaysPastDueNotWorse', 'DebtRatio', 'MonthlyIncome', 'NumberOfOpenCreditLinesAndLoans', 'NumberOfTimes90DaysLate', 'NumberRealEstateLoansOrLines', 'NumberOfTime60-89DaysPastDueNotWorse', 'NumberOfDependents']\n",
            "101503\n"
          ],
          "name": "stdout"
        }
      ]
    },
    {
      "cell_type": "markdown",
      "metadata": {
        "id": "39qt5Ad_0PMz"
      },
      "source": [
        "### Explore Data\n",
        "From the data we identify that the target is 'SeriousDlqin2yrs' (binary {0,1}). We have about 7.16% in training set are positive.\n",
        "We describe and plot distribution of some features to get overview & feeling of how the data looks like."
      ]
    },
    {
      "cell_type": "code",
      "metadata": {
        "colab": {
          "base_uri": "https://localhost:8080/",
          "height": 469
        },
        "id": "alcJlRsHsSw5",
        "outputId": "2ace0b1d-2c52-4681-fe32-000685ddfde6"
      },
      "source": [
        "#check target distribution\n",
        "df_target_nunique = df_cs_train.groupby(['SeriousDlqin2yrs']).size()\n",
        "print(\"Target count values: \", df_target_nunique)\n",
        "\n",
        "plt.figure(1)\n",
        "sns.displot(df_cs_train['SeriousDlqin2yrs'], kind=\"hist\")\n"
      ],
      "execution_count": 32,
      "outputs": [
        {
          "output_type": "stream",
          "text": [
            "Target count values:  SeriousDlqin2yrs\n",
            "0    111912\n",
            "1      8357\n",
            "dtype: int64\n"
          ],
          "name": "stdout"
        },
        {
          "output_type": "execute_result",
          "data": {
            "text/plain": [
              "<seaborn.axisgrid.FacetGrid at 0x7f855d41f090>"
            ]
          },
          "metadata": {
            "tags": []
          },
          "execution_count": 32
        },
        {
          "output_type": "display_data",
          "data": {
            "text/plain": [
              "<Figure size 432x288 with 0 Axes>"
            ]
          },
          "metadata": {
            "tags": []
          }
        },
        {
          "output_type": "display_data",
          "data": {
            "image/png": "[encoded data removed]",
            "text/plain": [
              "<Figure size 360x360 with 1 Axes>"
            ]
          },
          "metadata": {
            "tags": [],
            "needs_background": "light"
          }
        }
      ]
    },
    {
      "cell_type": "code",
      "metadata": {
        "colab": {
          "base_uri": "https://localhost:8080/",
          "height": 385
        },
        "id": "cg4BjtwvBksA",
        "outputId": "8a59b006-9991-4721-93a6-d6286dba46f1"
      },
      "source": [
        "# plot hist feature data\n",
        "# sns.displot(df_cs_train[['NumberOfTime30-59DaysPastDueNotWorse','NumberOfTime60-89DaysPastDueNotWorse','NumberOfTimes90DaysLate']]\n",
        "#             , )\n",
        "sns.displot(df_cs_train,x='NumberOfTime30-59DaysPastDueNotWorse',col='SeriousDlqin2yrs',bins=50)"
      ],
      "execution_count": 17,
      "outputs": [
        {
          "output_type": "execute_result",
          "data": {
            "text/plain": [
              "<seaborn.axisgrid.FacetGrid at 0x7f855e762c50>"
            ]
          },
          "metadata": {
            "tags": []
          },
          "execution_count": 17
        },
        {
          "output_type": "display_data",
          "data": {
            "image/png": "[encoded data removed]",
            "text/plain": [
              "<Figure size 720x360 with 2 Axes>"
            ]
          },
          "metadata": {
            "tags": [],
            "needs_background": "light"
          }
        }
      ]
    },
    {
      "cell_type": "code",
      "metadata": {
        "colab": {
          "base_uri": "https://localhost:8080/",
          "height": 385
        },
        "id": "1JoIrQuy2iy0",
        "outputId": "fcb9fe8c-a0af-43e6-9047-a6903f247d07"
      },
      "source": [
        "sns.displot(df_cs_train,x='NumberOfTime60-89DaysPastDueNotWorse',col='SeriousDlqin2yrs',bins=50)"
      ],
      "execution_count": 18,
      "outputs": [
        {
          "output_type": "execute_result",
          "data": {
            "text/plain": [
              "<seaborn.axisgrid.FacetGrid at 0x7f855e3d7210>"
            ]
          },
          "metadata": {
            "tags": []
          },
          "execution_count": 18
        },
        {
          "output_type": "display_data",
          "data": {
            "image/png": "[encoded data removed]",
            "text/plain": [
              "<Figure size 720x360 with 2 Axes>"
            ]
          },
          "metadata": {
            "tags": [],
            "needs_background": "light"
          }
        }
      ]
    },
    {
      "cell_type": "code",
      "metadata": {
        "colab": {
          "base_uri": "https://localhost:8080/",
          "height": 385
        },
        "id": "BjAUO-ms2i1S",
        "outputId": "8e12acc7-7655-4a14-c1a5-9103c172a557"
      },
      "source": [
        "sns.displot(df_cs_train,x='NumberOfTimes90DaysLate',col='SeriousDlqin2yrs',bins=50)"
      ],
      "execution_count": 19,
      "outputs": [
        {
          "output_type": "execute_result",
          "data": {
            "text/plain": [
              "<seaborn.axisgrid.FacetGrid at 0x7f855e422650>"
            ]
          },
          "metadata": {
            "tags": []
          },
          "execution_count": 19
        },
        {
          "output_type": "display_data",
          "data": {
            "image/png": "[encoded data removed]",
            "text/plain": [
              "<Figure size 720x360 with 2 Axes>"
            ]
          },
          "metadata": {
            "tags": [],
            "needs_background": "light"
          }
        }
      ]
    },
    {
      "cell_type": "code",
      "metadata": {
        "colab": {
          "base_uri": "https://localhost:8080/"
        },
        "id": "2E9NknnLxsNM",
        "outputId": "fc97d351-1d14-49e3-dd27-9ebbb12817c1"
      },
      "source": [
        "df_cs_train.RevolvingUtilizationOfUnsecuredLines.describe()"
      ],
      "execution_count": 20,
      "outputs": [
        {
          "output_type": "execute_result",
          "data": {
            "text/plain": [
              "count    150000.000000\n",
              "mean          6.048438\n",
              "std         249.755371\n",
              "min           0.000000\n",
              "25%           0.029867\n",
              "50%           0.154181\n",
              "75%           0.559046\n",
              "max       50708.000000\n",
              "Name: RevolvingUtilizationOfUnsecuredLines, dtype: float64"
            ]
          },
          "metadata": {
            "tags": []
          },
          "execution_count": 20
        }
      ]
    },
    {
      "cell_type": "code",
      "metadata": {
        "colab": {
          "base_uri": "https://localhost:8080/"
        },
        "id": "F_S09zFCxaTF",
        "outputId": "59053ac3-902f-4403-d0e8-2a0f873b6ead"
      },
      "source": [
        "df_cs_train.DebtRatio.describe()"
      ],
      "execution_count": 21,
      "outputs": [
        {
          "output_type": "execute_result",
          "data": {
            "text/plain": [
              "count    150000.000000\n",
              "mean        353.005076\n",
              "std        2037.818523\n",
              "min           0.000000\n",
              "25%           0.175074\n",
              "50%           0.366508\n",
              "75%           0.868254\n",
              "max      329664.000000\n",
              "Name: DebtRatio, dtype: float64"
            ]
          },
          "metadata": {
            "tags": []
          },
          "execution_count": 21
        }
      ]
    },
    {
      "cell_type": "code",
      "metadata": {
        "colab": {
          "base_uri": "https://localhost:8080/",
          "height": 281
        },
        "id": "-3kk9C1bAebJ",
        "outputId": "d9f68454-ab50-404f-d5f0-25c64a5b1057"
      },
      "source": [
        "# plot hist feature data\n",
        "sns.histplot(df_cs_train[['RevolvingUtilizationOfUnsecuredLines']],bins=100,)\n"
      ],
      "execution_count": 22,
      "outputs": [
        {
          "output_type": "execute_result",
          "data": {
            "text/plain": [
              "<matplotlib.axes._subplots.AxesSubplot at 0x7f855e0ed550>"
            ]
          },
          "metadata": {
            "tags": []
          },
          "execution_count": 22
        },
        {
          "output_type": "display_data",
          "data": {
            "image/png": "[encoded data removed]",
            "text/plain": [
              "<Figure size 432x288 with 1 Axes>"
            ]
          },
          "metadata": {
            "tags": [],
            "needs_background": "light"
          }
        }
      ]
    },
    {
      "cell_type": "code",
      "metadata": {
        "colab": {
          "base_uri": "https://localhost:8080/",
          "height": 385
        },
        "id": "10TheDcC0_wU",
        "outputId": "ac376898-dcfb-46ae-93d5-1339a759f19d"
      },
      "source": [
        "sns.displot(df_cs_train[df_cs_train['DebtRatio']>100],x='DebtRatio',col='SeriousDlqin2yrs',bins=100)"
      ],
      "execution_count": 23,
      "outputs": [
        {
          "output_type": "execute_result",
          "data": {
            "text/plain": [
              "<seaborn.axisgrid.FacetGrid at 0x7f855df6e4d0>"
            ]
          },
          "metadata": {
            "tags": []
          },
          "execution_count": 23
        },
        {
          "output_type": "display_data",
          "data": {
            "image/png": "[encoded data removed]",
            "text/plain": [
              "<Figure size 720x360 with 2 Axes>"
            ]
          },
          "metadata": {
            "tags": [],
            "needs_background": "light"
          }
        }
      ]
    },
    {
      "cell_type": "code",
      "metadata": {
        "colab": {
          "base_uri": "https://localhost:8080/",
          "height": 385
        },
        "id": "FrYNeALm5L1G",
        "outputId": "ea61fab8-07a3-4318-feeb-3a2e991b9289"
      },
      "source": [
        "sns.displot(df_cs_train,x='NumberOfOpenCreditLinesAndLoans',col='SeriousDlqin2yrs',bins=20)"
      ],
      "execution_count": 24,
      "outputs": [
        {
          "output_type": "execute_result",
          "data": {
            "text/plain": [
              "<seaborn.axisgrid.FacetGrid at 0x7f855df6e850>"
            ]
          },
          "metadata": {
            "tags": []
          },
          "execution_count": 24
        },
        {
          "output_type": "display_data",
          "data": {
            "image/png": "[encoded data removed]",
            "text/plain": [
              "<Figure size 720x360 with 2 Axes>"
            ]
          },
          "metadata": {
            "tags": [],
            "needs_background": "light"
          }
        }
      ]
    },
    {
      "cell_type": "code",
      "metadata": {
        "colab": {
          "base_uri": "https://localhost:8080/",
          "height": 385
        },
        "id": "UIDWv2Gp5fpy",
        "outputId": "cff9871c-fd4a-4dd1-d1cc-0c9ba825a1b2"
      },
      "source": [
        "sns.displot(df_cs_train,x='NumberRealEstateLoansOrLines',col='SeriousDlqin2yrs',bins=50)"
      ],
      "execution_count": 25,
      "outputs": [
        {
          "output_type": "execute_result",
          "data": {
            "text/plain": [
              "<seaborn.axisgrid.FacetGrid at 0x7f855daf94d0>"
            ]
          },
          "metadata": {
            "tags": []
          },
          "execution_count": 25
        },
        {
          "output_type": "display_data",
          "data": {
            "image/png": "[encoded data removed]",
            "text/plain": [
              "<Figure size 720x360 with 2 Axes>"
            ]
          },
          "metadata": {
            "tags": [],
            "needs_background": "light"
          }
        }
      ]
    },
    {
      "cell_type": "code",
      "metadata": {
        "colab": {
          "base_uri": "https://localhost:8080/",
          "height": 385
        },
        "id": "mwRfX0dIreG2",
        "outputId": "0048fa52-2bb9-4b36-c4d6-f1cf4f3540b5"
      },
      "source": [
        "# plot hist feature data\n",
        "# sns.displot(df_cs_train[['age']],bins=20)\n",
        "sns.displot(df_cs_train,x='age',col='SeriousDlqin2yrs', bins=20)\n"
      ],
      "execution_count": 26,
      "outputs": [
        {
          "output_type": "execute_result",
          "data": {
            "text/plain": [
              "<seaborn.axisgrid.FacetGrid at 0x7f855d8eaa50>"
            ]
          },
          "metadata": {
            "tags": []
          },
          "execution_count": 26
        },
        {
          "output_type": "display_data",
          "data": {
            "image/png": "[encoded data removed]",
            "text/plain": [
              "<Figure size 720x360 with 2 Axes>"
            ]
          },
          "metadata": {
            "tags": [],
            "needs_background": "light"
          }
        }
      ]
    },
    {
      "cell_type": "code",
      "metadata": {
        "colab": {
          "base_uri": "https://localhost:8080/"
        },
        "id": "XL0BNornrqAY",
        "outputId": "c2c9a8ef-3181-44c9-d214-042a61915137"
      },
      "source": [
        "df_cs_train.MonthlyIncome.describe()"
      ],
      "execution_count": 27,
      "outputs": [
        {
          "output_type": "execute_result",
          "data": {
            "text/plain": [
              "count    1.202690e+05\n",
              "mean     6.670221e+03\n",
              "std      1.438467e+04\n",
              "min      0.000000e+00\n",
              "25%      3.400000e+03\n",
              "50%      5.400000e+03\n",
              "75%      8.249000e+03\n",
              "max      3.008750e+06\n",
              "Name: MonthlyIncome, dtype: float64"
            ]
          },
          "metadata": {
            "tags": []
          },
          "execution_count": 27
        }
      ]
    },
    {
      "cell_type": "code",
      "metadata": {
        "id": "pPcII13jvkmc",
        "colab": {
          "base_uri": "https://localhost:8080/",
          "height": 385
        },
        "outputId": "adb88189-1348-4e03-837b-884d7b52501c"
      },
      "source": [
        "sns.displot(df_cs_train[['NumberOfOpenCreditLinesAndLoans']])\n"
      ],
      "execution_count": 28,
      "outputs": [
        {
          "output_type": "execute_result",
          "data": {
            "text/plain": [
              "<seaborn.axisgrid.FacetGrid at 0x7f855d7a5ad0>"
            ]
          },
          "metadata": {
            "tags": []
          },
          "execution_count": 28
        },
        {
          "output_type": "display_data",
          "data": {
            "image/png": "[encoded data removed]",
            "text/plain": [
              "<Figure size 578.75x360 with 1 Axes>"
            ]
          },
          "metadata": {
            "tags": [],
            "needs_background": "light"
          }
        }
      ]
    },
    {
      "cell_type": "markdown",
      "metadata": {
        "id": "9ZMnwXW2YKgZ"
      },
      "source": [
        "### Data Preprocessing, Feature Normalization\n",
        "In this part I handle NaN values. I only keep non-NaN values for training as we have large enough data and doing imputation do not necessary return better outcome.\n",
        "I also perform feature normalization."
      ]
    },
    {
      "cell_type": "code",
      "metadata": {
        "id": "KiSxl_sOsSzX"
      },
      "source": [
        "# check & handle NaN values. \n",
        "df_cs_train = df_cs_train.dropna(axis=0) #drop null values data point\n",
        "\n",
        "neg = df_target_nunique[0]\n",
        "pos = df_target_nunique[1]\n",
        "total = neg + pos\n",
        "ratio_pos_neg = pos/neg # calculate ratio pos/neg samples\n"
      ],
      "execution_count": 80,
      "outputs": []
    },
    {
      "cell_type": "code",
      "metadata": {
        "id": "ZvV0E3dHxsR4"
      },
      "source": [
        "# Features Normalization\n",
        "scaler = StandardScaler()\n",
        "data_train_feat_norm = scaler.fit_transform(df_cs_train[col_feat])\n",
        "data_test_feat_norm = scaler.transform(df_cs_test[col_feat])\n",
        "\n",
        "data_train_feat_norm = np.clip(data_train_feat_norm, -5, 5)\n",
        "data_test_feat_norm = np.clip(data_test_feat_norm, -5, 5)\n",
        "\n",
        "y_train = df_cs_train[target].to_numpy()\n",
        "# y_test is Nan, not provided"
      ],
      "execution_count": 102,
      "outputs": []
    },
    {
      "cell_type": "markdown",
      "metadata": {
        "id": "ij6FC8t9YW6a"
      },
      "source": [
        "## Model Selection\n"
      ]
    },
    {
      "cell_type": "markdown",
      "metadata": {
        "id": "4CKwNcPl4I1m"
      },
      "source": [
        "#### 1. XGBoost\n",
        "In first this first model, I perform grid search and cross validation to find the best model with XGBoost. "
      ]
    },
    {
      "cell_type": "code",
      "metadata": {
        "id": "HpDdawuktTqB"
      },
      "source": [
        "# define function to perform grid search cross validation\n",
        "def grid_search_cv(X_train_data, X_test_data, y_train_data, \n",
        "                       model, param_grid, cv=3, scoring_fit='roc_auc', do_probabilities = False):\n",
        "    gs = GridSearchCV(\n",
        "        estimator=model,\n",
        "        param_grid=param_grid, \n",
        "        cv=cv, \n",
        "        n_jobs=-1, \n",
        "        scoring=scoring_fit,\n",
        "        verbose=2\n",
        "    )\n",
        "    fitted_model = gs.fit(X_train_data, y_train_data)\n",
        "    \n",
        "    if do_probabilities:\n",
        "      pred = fitted_model.predict_proba(X_test_data)\n",
        "    else:\n",
        "      pred = fitted_model.predict(X_test_data)\n",
        "    \n",
        "    return fitted_model, pred"
      ],
      "execution_count": 37,
      "outputs": []
    },
    {
      "cell_type": "code",
      "metadata": {
        "colab": {
          "base_uri": "https://localhost:8080/"
        },
        "id": "vmF1Zi6E61aJ",
        "outputId": "fc61da2f-b603-4ed3-9387-847a46eb75ed"
      },
      "source": [
        "# set hyperparameters. The combination of hyperparameters can be extended. For the sake of time, I keep a few to speed up. \n",
        "params_grid = {\n",
        "         'objective': ['binary:logistic']\n",
        "         ,'n_estimators': [100,150,180]\n",
        "         ,'eta': [0.05,0.3,0.5]\n",
        "         ,'max_depth': [3,5,7]\n",
        "         ,'subsample': [0.8,1] \n",
        "         ,'max_delta_step': [0,1,5]\n",
        "         ,'lambda': [1,2]\n",
        "         ,'scale_pos_weight': [1/ratio_pos_neg] # use scale_pos_weight to handle imbalance data pos/neg\n",
        "\n",
        "         ,'nthread': [4]\n",
        "         ,'gpu_id': [0] # use gpu\n",
        "         ,'tree_method': ['gpu_hist']\n",
        "         }\n",
        "\n",
        "X_train = data_train_feat_norm\n",
        "X_test = data_test_feat_norm\n",
        "\n",
        "model_xgb = xgb.XGBClassifier()\n",
        "fitted_xgb, pred = grid_search_cv(X_train, X_test, y_train, model_xgb, params_grid, cv=3)\n",
        "print(\"model best params:\", fitted_xgb.best_params_)\n",
        "print(\"model best score: \", fitted_xgb.best_score_)\n",
        "\n",
        "# write best parameters record into text file\n",
        "with open(data_dir+'best_params.json', 'w') as fp:\n",
        "    json.dump(fitted_xgb.best_params_, fp)"
      ],
      "execution_count": 108,
      "outputs": [
        {
          "output_type": "stream",
          "text": [
            "Fitting 3 folds for each of 324 candidates, totalling 972 fits\n"
          ],
          "name": "stdout"
        },
        {
          "output_type": "stream",
          "text": [
            "[Parallel(n_jobs=-1)]: Using backend LokyBackend with 2 concurrent workers.\n",
            "[Parallel(n_jobs=-1)]: Done  37 tasks      | elapsed:   42.0s\n",
            "[Parallel(n_jobs=-1)]: Done 158 tasks      | elapsed:  3.7min\n",
            "[Parallel(n_jobs=-1)]: Done 361 tasks      | elapsed:  8.3min\n",
            "[Parallel(n_jobs=-1)]: Done 644 tasks      | elapsed: 15.1min\n",
            "[Parallel(n_jobs=-1)]: Done 972 out of 972 | elapsed: 22.9min finished\n"
          ],
          "name": "stderr"
        },
        {
          "output_type": "stream",
          "text": [
            "model best params: {'eta': 0.05, 'gpu_id': 0, 'lambda': 1, 'max_delta_step': 1, 'max_depth': 3, 'n_estimators': 150, 'nthread': 4, 'objective': 'binary:logistic', 'scale_pos_weight': 13.391408400143591, 'subsample': 0.8, 'tree_method': 'gpu_hist'}\n",
            "model best score:  0.8554592718744608\n"
          ],
          "name": "stdout"
        }
      ]
    },
    {
      "cell_type": "code",
      "metadata": {
        "id": "vk6F0dOQ61Vh",
        "colab": {
          "base_uri": "https://localhost:8080/"
        },
        "outputId": "f2c72282-54f6-4b1d-ec48-a247cdc577bc"
      },
      "source": [
        "# After finding the best model, we train the model with all available training data\n",
        "# dtrain = xgb.DMatrix(X_train, label=y_train ) # convert to DMatrix type\n",
        "# dtest = xgb.DMatrix(X_test, label=df_cs_test[target].to_numpy() )\n",
        "# dtest = xgb.DMatrix(X_test )\n",
        "# evallist = [(dtrain,'train')]\n",
        "\n",
        "param = fitted_xgb.best_params_ #use best params from cv\n",
        "param['eval_metric'] = 'auc'\n",
        "clf = xgb.XGBClassifier(**param)\n",
        "clf.fit(X_train, y_train, eval_metric='auc', verbose=True)\n"
      ],
      "execution_count": 109,
      "outputs": [
        {
          "output_type": "execute_result",
          "data": {
            "text/plain": [
              "XGBClassifier(base_score=0.5, booster='gbtree', colsample_bylevel=1,\n",
              "              colsample_bynode=1, colsample_bytree=1, eta=0.05,\n",
              "              eval_metric='auc', gamma=0, gpu_id=0, lambda=1, learning_rate=0.1,\n",
              "              max_delta_step=1, max_depth=3, min_child_weight=1, missing=None,\n",
              "              n_estimators=150, n_jobs=1, nthread=4,\n",
              "              objective='binary:logistic', random_state=0, reg_alpha=0,\n",
              "              reg_lambda=1, scale_pos_weight=13.391408400143591, seed=None,\n",
              "              silent=None, subsample=0.8, tree_method='gpu_hist', verbosity=1)"
            ]
          },
          "metadata": {
            "tags": []
          },
          "execution_count": 109
        }
      ]
    },
    {
      "cell_type": "markdown",
      "metadata": {
        "id": "UbxuR2wS6X3O"
      },
      "source": [
        "##### Predict Test Set"
      ]
    },
    {
      "cell_type": "code",
      "metadata": {
        "id": "JoyWRsIpGfHq"
      },
      "source": [
        "# run prediction on test set\n",
        "y_pred_train = clf.predict_proba(X_train)[:,1] # take prediction probability of \"1\"\n",
        "\n",
        "y_pred = clf.predict_proba(X_test)[:,1] # take prediction probability of \"1\"\n",
        "df_pred_test = pd.Series.to_frame(df_cs_test['Unnamed: 0'])\n",
        "df_pred_test = df_pred_test.rename(columns={\"Unnamed: 0\":\"Id\"})\n",
        "df_pred_test[\"Probability\"] = y_pred\n",
        "df_pred_test.head()\n",
        "# write prediction to csv file\n",
        "df_pred_test.to_csv(data_dir+'cs_pred_xgb.csv', index=False)\n"
      ],
      "execution_count": 126,
      "outputs": []
    },
    {
      "cell_type": "markdown",
      "metadata": {
        "id": "d63FhvzPchcP"
      },
      "source": [
        "##### Feature Importance Visualization\n",
        "We plot feature importance from the learn classifier. It turns out that f0, f2 are the most important while f6 is the least."
      ]
    },
    {
      "cell_type": "code",
      "metadata": {
        "colab": {
          "base_uri": "https://localhost:8080/",
          "height": 349
        },
        "id": "TCamlHwE64FR",
        "outputId": "bb5dca85-6029-453e-8974-267c6552a47b"
      },
      "source": [
        "# vis feature importance\n",
        "print(col_feat) # print coded sequence of features: f0, f1, ...\n",
        "xgb.plot_importance(clf)\n"
      ],
      "execution_count": 142,
      "outputs": [
        {
          "output_type": "stream",
          "text": [
            "['RevolvingUtilizationOfUnsecuredLines', 'age', 'DebtRatio', 'MonthlyIncome', 'NumberOfOpenCreditLinesAndLoans', 'NumberRealEstateLoansOrLines', 'NumberOfDependents', 'NumberOfTime30-59DaysPastDueNotWorse', 'NumberOfTime60-89DaysPastDueNotWorse', 'NumberOfTimes90DaysLate']\n"
          ],
          "name": "stdout"
        },
        {
          "output_type": "execute_result",
          "data": {
            "text/plain": [
              "<matplotlib.axes._subplots.AxesSubplot at 0x7f83e86f6090>"
            ]
          },
          "metadata": {
            "tags": []
          },
          "execution_count": 142
        },
        {
          "output_type": "display_data",
          "data": {
            "image/png": "[encoded data removed]",
            "text/plain": [
              "<Figure size 432x288 with 1 Axes>"
            ]
          },
          "metadata": {
            "tags": [],
            "needs_background": "light"
          }
        }
      ]
    },
    {
      "cell_type": "markdown",
      "metadata": {
        "id": "Ot9jzEEG4_KK"
      },
      "source": [
        "### Neural Network\n",
        "In this part, I attempt to design a neural network to achieve better performance than XGBoost model. The first attempt has not been fruitful to pass the performance of XGBoost. Due to time, I have only did quick optimization (change network size, depth, and a few hyperparameters search). I didn't implement further optimization, e.g. automl. However, this should be a good demonstration of how to use neural network to make structured data prediction.\n"
      ]
    },
    {
      "cell_type": "code",
      "metadata": {
        "id": "anHeo9GdBWcj",
        "colab": {
          "base_uri": "https://localhost:8080/"
        },
        "outputId": "7de856b2-1b97-4530-fbdb-42280430cfad"
      },
      "source": [
        "# Use neural network\n",
        "# define the keras model\n",
        "model = tf.keras.models.Sequential()\n",
        "model.add(tf.keras.layers.Dense(16, input_dim=10, activation='relu'))\n",
        "model.add(tf.keras.layers.Dense(8, activation='relu'))\n",
        "model.add(tf.keras.layers.Dense(4, activation='relu'))\n",
        "model.add(tf.keras.layers.Dense(1, activation='sigmoid'))\n",
        "\n",
        "# class weight to handle imbalance data\n",
        "weight_for_0 = (1 / neg) * (total / 2.0)\n",
        "weight_for_1 = (1 / pos) * (total / 2.0)\n",
        "class_weight = {0: weight_for_0, 1: weight_for_1}\n",
        "\n",
        "print('Weight for class 0: {:.2f}'.format(weight_for_0))\n",
        "print('Weight for class 1: {:.2f}'.format(weight_for_1))\n",
        "\n",
        "model.compile(loss='binary_crossentropy',\n",
        "              optimizer=tf.keras.optimizers.Adam(learning_rate=0.001),\n",
        "              metrics=[tf.keras.metrics.AUC(from_logits=True)],\n",
        "\n",
        "              )\n"
      ],
      "execution_count": 117,
      "outputs": [
        {
          "output_type": "stream",
          "text": [
            "Weight for class 0: 0.54\n",
            "Weight for class 1: 7.20\n"
          ],
          "name": "stdout"
        }
      ]
    },
    {
      "cell_type": "code",
      "metadata": {
        "colab": {
          "base_uri": "https://localhost:8080/"
        },
        "id": "QkDXP3WlZU_P",
        "outputId": "f52ee2db-e5b1-4a8a-f715-5df99a6cdf06"
      },
      "source": [
        "n_epoch = 25\n",
        "history = model.fit(X_train, y_train,\n",
        "          epochs= n_epoch, \n",
        "          batch_size= 512, \n",
        "          validation_split=0.1,\n",
        "          shuffle = True,\n",
        "          class_weight=class_weight # to handle imbalance class \n",
        "          )\n"
      ],
      "execution_count": 134,
      "outputs": [
        {
          "output_type": "stream",
          "text": [
            "Epoch 1/25\n",
            "212/212 [==============================] - 1s 3ms/step - loss: 0.5108 - auc_15: 0.8242 - val_loss: 0.5191 - val_auc_15: 0.8347\n",
            "Epoch 2/25\n",
            "212/212 [==============================] - 1s 3ms/step - loss: 0.5106 - auc_15: 0.8241 - val_loss: 0.4991 - val_auc_15: 0.8342\n",
            "Epoch 3/25\n",
            "212/212 [==============================] - 1s 3ms/step - loss: 0.5102 - auc_15: 0.8249 - val_loss: 0.4820 - val_auc_15: 0.8324\n",
            "Epoch 4/25\n",
            "212/212 [==============================] - 1s 3ms/step - loss: 0.5100 - auc_15: 0.8246 - val_loss: 0.4858 - val_auc_15: 0.8329\n",
            "Epoch 5/25\n",
            "212/212 [==============================] - 1s 3ms/step - loss: 0.5099 - auc_15: 0.8248 - val_loss: 0.4720 - val_auc_15: 0.8325\n",
            "Epoch 6/25\n",
            "212/212 [==============================] - 1s 3ms/step - loss: 0.5097 - auc_15: 0.8249 - val_loss: 0.5058 - val_auc_15: 0.8348\n",
            "Epoch 7/25\n",
            "212/212 [==============================] - 1s 3ms/step - loss: 0.5095 - auc_15: 0.8250 - val_loss: 0.4963 - val_auc_15: 0.8316\n",
            "Epoch 8/25\n",
            "212/212 [==============================] - 1s 3ms/step - loss: 0.5093 - auc_15: 0.8251 - val_loss: 0.4895 - val_auc_15: 0.8345\n",
            "Epoch 9/25\n",
            "212/212 [==============================] - 1s 3ms/step - loss: 0.5091 - auc_15: 0.8253 - val_loss: 0.5068 - val_auc_15: 0.8324\n",
            "Epoch 10/25\n",
            "212/212 [==============================] - 1s 3ms/step - loss: 0.5089 - auc_15: 0.8253 - val_loss: 0.5095 - val_auc_15: 0.8320\n",
            "Epoch 11/25\n",
            "212/212 [==============================] - 1s 3ms/step - loss: 0.5087 - auc_15: 0.8257 - val_loss: 0.5393 - val_auc_15: 0.8334\n",
            "Epoch 12/25\n",
            "212/212 [==============================] - 1s 3ms/step - loss: 0.5082 - auc_15: 0.8259 - val_loss: 0.4750 - val_auc_15: 0.8332\n",
            "Epoch 13/25\n",
            "212/212 [==============================] - 1s 3ms/step - loss: 0.5080 - auc_15: 0.8261 - val_loss: 0.5029 - val_auc_15: 0.8329\n",
            "Epoch 14/25\n",
            "212/212 [==============================] - 1s 3ms/step - loss: 0.5085 - auc_15: 0.8255 - val_loss: 0.4594 - val_auc_15: 0.8345\n",
            "Epoch 15/25\n",
            "212/212 [==============================] - 1s 3ms/step - loss: 0.5083 - auc_15: 0.8257 - val_loss: 0.4887 - val_auc_15: 0.8344\n",
            "Epoch 16/25\n",
            "212/212 [==============================] - 1s 3ms/step - loss: 0.5081 - auc_15: 0.8258 - val_loss: 0.4978 - val_auc_15: 0.8339\n",
            "Epoch 17/25\n",
            "212/212 [==============================] - 1s 4ms/step - loss: 0.5076 - auc_15: 0.8263 - val_loss: 0.5069 - val_auc_15: 0.8348\n",
            "Epoch 18/25\n",
            "212/212 [==============================] - 1s 4ms/step - loss: 0.5078 - auc_15: 0.8260 - val_loss: 0.5098 - val_auc_15: 0.8338\n",
            "Epoch 19/25\n",
            "212/212 [==============================] - 1s 3ms/step - loss: 0.5076 - auc_15: 0.8261 - val_loss: 0.5099 - val_auc_15: 0.8336\n",
            "Epoch 20/25\n",
            "212/212 [==============================] - 1s 3ms/step - loss: 0.5070 - auc_15: 0.8268 - val_loss: 0.5158 - val_auc_15: 0.8338\n",
            "Epoch 21/25\n",
            "212/212 [==============================] - 1s 4ms/step - loss: 0.5071 - auc_15: 0.8264 - val_loss: 0.4873 - val_auc_15: 0.8341\n",
            "Epoch 22/25\n",
            "212/212 [==============================] - 1s 3ms/step - loss: 0.5069 - auc_15: 0.8269 - val_loss: 0.4999 - val_auc_15: 0.8342\n",
            "Epoch 23/25\n",
            "212/212 [==============================] - 1s 4ms/step - loss: 0.5069 - auc_15: 0.8268 - val_loss: 0.4644 - val_auc_15: 0.8350\n",
            "Epoch 24/25\n",
            "212/212 [==============================] - 1s 4ms/step - loss: 0.5068 - auc_15: 0.8270 - val_loss: 0.4743 - val_auc_15: 0.8326\n",
            "Epoch 25/25\n",
            "212/212 [==============================] - 1s 3ms/step - loss: 0.5067 - auc_15: 0.8269 - val_loss: 0.5432 - val_auc_15: 0.8322\n"
          ],
          "name": "stdout"
        }
      ]
    },
    {
      "cell_type": "code",
      "metadata": {
        "colab": {
          "base_uri": "https://localhost:8080/"
        },
        "id": "nqMVniWvZVBe",
        "outputId": "b0c57b02-6851-4356-e1d3-79381545bb58"
      },
      "source": [
        "# make prediction on test set\n",
        "y_pred_nn = model.predict(X_test, batch_size=256, verbose=1)\n",
        "df_pred_test_nn = pd.Series.to_frame(df_cs_test['Unnamed: 0'])\n",
        "df_pred_test_nn = df_pred_test_nn.rename(columns={\"Unnamed: 0\":\"Id\"})\n",
        "df_pred_test_nn[\"Probability\"] = y_pred_nn\n",
        "df_pred_test_nn.head()\n",
        "# write prediction to csv file\n",
        "df_pred_test_nn.to_csv(data_dir+'cs_pred_nn.csv', index=False)\n"
      ],
      "execution_count": 119,
      "outputs": [
        {
          "output_type": "stream",
          "text": [
            "397/397 [==============================] - 0s 947us/step\n"
          ],
          "name": "stdout"
        }
      ]
    },
    {
      "cell_type": "code",
      "metadata": {
        "id": "blPS_fTXmf5Y"
      },
      "source": [
        ""
      ],
      "execution_count": null,
      "outputs": []
    }
  ]
}